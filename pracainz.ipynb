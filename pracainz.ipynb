{
 "cells": [
  {
   "cell_type": "code",
   "execution_count": 1,
   "id": "142d4198",
   "metadata": {},
   "outputs": [
    {
     "name": "stdout",
     "output_type": "stream",
     "text": [
      "KAN-22: nnn:Krystsina Kuzemka\n",
      "KAN-21: warning:Krystsina Kuzemka\n",
      "KAN-20: nic wsm:Krystsina Kuzemka\n",
      "KAN-19: Please help us with our problem issue. It's urgent!!!:Krystsina Kuzemka\n",
      "KAN-18: urgent:Krystsina Kuzemka\n",
      "KAN-13: naprawic Bug:Krystsina Kuzemka\n",
      "KAN-12: Priorytety test:Krystsina Kuzemka\n"
     ]
    }
   ],
   "source": [
    "# import the installed Jira library\n",
    "from jira import JIRA\n",
    "\n",
    "# Specify a server key. It should be your\n",
    "# domain name link. yourdomainname.atlassian.net\n",
    "jiraOptions = {'server': \"https://kvkuzemko.atlassian.net\"}\n",
    "\n",
    "# Get a JIRA client instance, pass,\n",
    "# Authentication parameters\n",
    "# and the Server name.\n",
    "# emailID = your emailID\n",
    "# token = token you receive after registration\n",
    "jira = JIRA(options=jiraOptions, basic_auth=(\n",
    "    \"k.v.kuzemko@gmail.com\", \"ATATT3xFfGF0XTpEom60ufoXkn8twXdmY_dk_-vSSktdlUQIKx-MFsD4fpUD6kKY5jBCOlE-xEF3SumYV-8WdxN6NZdPzqMEeLcGes6rdgEQ810HBp-pREY-YTcju04GXzmicjh3h5mUQB-IgSFaMyfosDua62sTqd4CN9nBsRM-dG45aOLEjLA=0F3A98C3\"))\n",
    "\n",
    "# Search all issues mentioned against a project name.\n",
    "for singleIssue in jira.search_issues(jql_str='project = KAN'):\n",
    "    print('{}: {}:{}'.format(singleIssue.key, singleIssue.fields.summary,\n",
    "                              singleIssue.fields.reporter.displayName))\n"
   ]
  },
  {
   "cell_type": "code",
   "execution_count": 6,
   "id": "74374337",
   "metadata": {},
   "outputs": [
    {
     "name": "stdout",
     "output_type": "stream",
     "text": [
      "Przypisano zadanie KAN-23 do użytkownika Gedeon Kucharski\n",
      "None\n",
      "Przypisano zadanie KAN-22 do użytkownika Gedeon Kucharski\n",
      "None\n",
      "Przypisano zadanie KAN-21 do użytkownika Gedeon Kucharski\n",
      "None\n",
      "Przypisano zadanie KAN-20 do użytkownika Gedeon Kucharski\n",
      "None\n",
      "Przypisano zadanie KAN-19 do użytkownika Gedeon Kucharski\n",
      "None\n",
      "Przypisano zadanie KAN-18 do użytkownika Gedeon Kucharski\n",
      "None\n"
     ]
    }
   ],
   "source": [
    "from jira import JIRA\n",
    "\n",
    "# Ustawienia serwera Jira\n",
    "jira_options = {'server': 'https://kvkuzemko.atlassian.net'}\n",
    "\n",
    "# Autoryzacja\n",
    "jira = JIRA(options=jira_options, basic_auth=('k.v.kuzemko@gmail.com', 'ATATT3xFfGF0XTpEom60ufoXkn8twXdmY_dk_-vSSktdlUQIKx-MFsD4fpUD6kKY5jBCOlE-xEF3SumYV-8WdxN6NZdPzqMEeLcGes6rdgEQ810HBp-pREY-YTcju04GXzmicjh3h5mUQB-IgSFaMyfosDua62sTqd4CN9nBsRM-dG45aOLEjLA=0F3A98C3'))\n",
    "\n",
    "# Definicja warunków\n",
    "jql_query = 'project = \"KAN\" AND issuetype = \"Bug\"' \n",
    "\n",
    "# Pobranie listy zadań spełniających warunki\n",
    "issues = jira.search_issues(jql_query)\n",
    "\n",
    "# Przypisanie zadań do użytkownika\n",
    "assignee = 'Gedeon Kucharski'  # Definiowanie nazwy użytkownika\n",
    "for issue in issues:\n",
    "    issue.update(assignee={'name': 'Gedeon Kucharski'})\n",
    "    updated_issue = jira.issue(issue.key)  # Pobranie zaktualizowanej wersji zadania\n",
    "    print(f\"Przypisano zadanie {issue.key} do użytkownika Gedeon Kucharski\")\n",
    "    print(updated_issue.fields.assignee)  # Wyświetlenie aktualnego przypisanego użytkownika\n",
    "\n"
   ]
  },
  {
   "cell_type": "code",
   "execution_count": 35,
   "id": "eed40215",
   "metadata": {},
   "outputs": [
    {
     "name": "stdout",
     "output_type": "stream",
     "text": [
      "Nadano priorytet High dla zadania KAN-18.\n",
      "Nadano priorytet Medium dla zadania KAN-17.\n",
      "Nadano priorytet Medium dla zadania KAN-16.\n",
      "Nadano priorytet Medium dla zadania KAN-15.\n"
     ]
    }
   ],
   "source": [
    "from jira import JIRA\n",
    "\n",
    "# Ustawienia serwera Jira\n",
    "jira_options = {'server': 'https://kvkuzemko.atlassian.net'}\n",
    "\n",
    "# Autoryzacja\n",
    "jira_username = 'k.v.kuzemko@gmail.com'\n",
    "jira_api_token = 'ATATT3xFfGF0XTpEom60ufoXkn8twXdmY_dk_-vSSktdlUQIKx-MFsD4fpUD6kKY5jBCOlE-xEF3SumYV-8WdxN6NZdPzqMEeLcGes6rdgEQ810HBp-pREY-YTcju04GXzmicjh3h5mUQB-IgSFaMyfosDua62sTqd4CN9nBsRM-dG45aOLEjLA=0F3A98C3'\n",
    "jira = JIRA(options=jira_options, basic_auth=(jira_username, jira_api_token))\n",
    "\n",
    "# Funkcja do automatycznego nadawania priorytetu na podstawie reguł biznesowych\n",
    "def assign_priority(issue):\n",
    "    # Pobierz informacje o zgłoszeniu\n",
    "    summary = issue.fields.summary.lower()\n",
    "    description = issue.fields.description.lower()\n",
    "\n",
    "    # Zdefiniuj reguły biznesowe do nadawania priorytetu\n",
    "    if 'critical' in summary or 'critical' in description:\n",
    "        priority = 'High'\n",
    "    elif 'urgent' in summary or 'urgent' in description:\n",
    "        priority = 'High'\n",
    "    elif 'warning' in summary or 'warning' in description:\n",
    "        priority = 'Medium'\n",
    "    else:\n",
    "        priority = 'Low'\n",
    "\n",
    "    # Aktualizuj priorytet zgłoszenia\n",
    "    try:\n",
    "        issue.update(fields={'priority': {'name': priority}})\n",
    "        print(f\"Nadano priorytet {priority} dla zadania {issue.key}.\")\n",
    "    except Exception as e:\n",
    "        print(f\"Wystąpił błąd podczas aktualizacji priorytetu dla zadania {issue.key}: {e}\")\n",
    "# Definicja warunków\n",
    "jql_query = 'project = \"KAN\" AND issuetype = \"Bug\"'\n",
    "\n",
    "try:\n",
    "    # Pobranie listy zadań spełniających warunki\n",
    "    issues = jira.search_issues(jql_query)\n",
    "\n",
    "    # Przypisanie priorytetów do zadań\n",
    "    for issue in issues:\n",
    "        assign_priority(issue)\n",
    "except Exception as e:\n",
    "    print(f\"Wystąpił błąd podczas przetwarzania zadań: {e}\")\n"
   ]
  },
  {
   "cell_type": "code",
   "execution_count": 3,
   "id": "04f86818",
   "metadata": {},
   "outputs": [
    {
     "name": "stderr",
     "output_type": "stream",
     "text": [
      "WARNING: This is a development server. Do not use it in a production deployment. Use a production WSGI server instead.\n",
      " * Running on http://localhost:5000\n",
      "Press CTRL+C to quit\n"
     ]
    },
    {
     "name": "stdout",
     "output_type": "stream",
     "text": [
      "Uruchamianie serwera...\n"
     ]
    }
   ],
   "source": [
    "from flask import Flask, request\n",
    "from jira import JIRA\n",
    "from werkzeug.serving import run_simple\n",
    "\n",
    "# Inicjalizacja aplikacji Flask\n",
    "app = Flask(__name__)\n",
    "\n",
    "# Ustawienia serwera Jira\n",
    "jira_options = {'server': 'https://kvkuzemko.atlassian.net'}\n",
    "\n",
    "# Autoryzacja w Jirze\n",
    "jira_username = 'k.v.kuzemko@gmail.com'\n",
    "jira_api_token = 'ATATT3xFfGF0XTpEom60ufoXkn8twXdmY_dk_-vSSktdlUQIKx-MFsD4fpUD6kKY5jBCOlE-xEF3SumYV-8WdxN6NZdPzqMEeLcGes6rdgEQ810HBp-pREY-YTcju04GXzmicjh3h5mUQB-IgSFaMyfosDua62sTqd4CN9nBsRM-dG45aOLEjLA=0F3A98C3'\n",
    "jira = JIRA(options=jira_options, basic_auth=(jira_username, jira_api_token))\n",
    "\n",
    "# Funkcja przypisująca priorytet\n",
    "def assign_priority(issue):\n",
    "    # Pobierz informacje o zgłoszeniu\n",
    "    summary = issue.fields.summary.lower()\n",
    "    description = issue.fields.description.lower()\n",
    "\n",
    "    # Zdefiniuj reguły biznesowe do nadawania priorytetu\n",
    "    if 'critical' in summary or 'critical' in description:\n",
    "        priority = 'High'\n",
    "    elif 'urgent' in summary or 'urgent' in description:\n",
    "        priority = 'High'\n",
    "    elif 'warning' in summary or 'warning' in description:\n",
    "        priority = 'Medium'\n",
    "    else:\n",
    "        priority = 'Low'\n",
    "\n",
    "    # Aktualizuj priorytet zgłoszenia\n",
    "    try:\n",
    "        issue.update(fields={'priority': {'name': priority}})\n",
    "        print(f\"Nadano priorytet {priority} dla zadania {issue.key}.\")\n",
    "    except Exception as e:\n",
    "        print(f\"Wystąpił błąd podczas aktualizacji priorytetu dla zadania {issue.key}: {e}\")\n",
    "\n",
    "# Obsługa żądania webhooka\n",
    "@app.route('/webhook', methods=['POST'])\n",
    "def handle_webhook():\n",
    "    print(\"Otrzymano żądanie webhooka...\")\n",
    "    # Odczytanie treści zgłoszenia\n",
    "    data = request.json\n",
    "    issue_key = data['issue']['key']\n",
    "    \n",
    "    # Pobierz pełne informacje o zgłoszeniu z Jiry\n",
    "    issue = jira.issue(issue_key)\n",
    "    \n",
    "    # Przypisz priorytet na podstawie reguł biznesowych\n",
    "    assign_priority(issue)\n",
    "    \n",
    "    return 'Success', 200\n",
    "\n",
    "if __name__ == '__main__':\n",
    "    print(\"Uruchamianie serwera...\")\n",
    "    run_simple('localhost', 5000, app)\n"
   ]
  },
  {
   "cell_type": "code",
   "execution_count": 7,
   "id": "02f1ca27",
   "metadata": {},
   "outputs": [
    {
     "name": "stdout",
     "output_type": "stream",
     "text": [
      "Success\n"
     ]
    }
   ],
   "source": [
    "import requests\n",
    "\n",
    "url = 'http://localhost:5000/webhook'\n",
    "data = {\n",
    "    'issue': {\n",
    "        'key': 'KAN-23',\n",
    "        'fields': {\n",
    "            'description': 'Opis zgłoszenia'\n",
    "        }\n",
    "    }\n",
    "}\n",
    "headers = {'Content-Type': 'application/json'}\n",
    "\n",
    "response = requests.post(url, json=data, headers=headers)\n",
    "print(response.text)\n"
   ]
  },
  {
   "cell_type": "code",
   "execution_count": null,
   "id": "06999eb1",
   "metadata": {},
   "outputs": [],
   "source": []
  }
 ],
 "metadata": {
  "kernelspec": {
   "display_name": "Python 3 (ipykernel)",
   "language": "python",
   "name": "python3"
  },
  "language_info": {
   "codemirror_mode": {
    "name": "ipython",
    "version": 3
   },
   "file_extension": ".py",
   "mimetype": "text/x-python",
   "name": "python",
   "nbconvert_exporter": "python",
   "pygments_lexer": "ipython3",
   "version": "3.11.5"
  }
 },
 "nbformat": 4,
 "nbformat_minor": 5
}
